{
 "cells": [
  {
   "cell_type": "code",
   "execution_count": 2,
   "metadata": {},
   "outputs": [],
   "source": [
    "import struct\n",
    "import random"
   ]
  },
  {
   "cell_type": "code",
   "execution_count": 3,
   "metadata": {},
   "outputs": [],
   "source": [
    "def float_32_bits_to_ieee_754(float_value):\n",
    "    '''\n",
    "    Função que converte o valor float_value para float de 32 bits\n",
    "    '''\n",
    "    return struct.pack('f', float_value)"
   ]
  },
  {
   "cell_type": "code",
   "execution_count": 69,
   "metadata": {},
   "outputs": [],
   "source": [
    "def ieee_754_to_float_32_bits(ieee_value):\n",
    "    '''\n",
    "    Função que converte o valor ieee_value para float de 32 bits\n",
    "    '''\n",
    "    return struct.unpack('f', ieee_value)[0]"
   ]
  },
  {
   "cell_type": "code",
   "execution_count": 126,
   "metadata": {},
   "outputs": [],
   "source": [
    "def rounder(x):\n",
    "    '''\n",
    "    Função que arredonda o número x para 6 casas decimais e retorna o número em notação científica\n",
    "    '''\n",
    "    concat_list = (str(x)).split('e')\n",
    "    num = str(round(float(concat_list[0]), 6))\n",
    "    exp = concat_list[1]\n",
    "    num_complete = float(num + 'e' + exp)\n",
    "    return num_complete\n"
   ]
  },
  {
   "cell_type": "code",
   "execution_count": 70,
   "metadata": {},
   "outputs": [
    {
     "name": "stdout",
     "output_type": "stream",
     "text": [
      "13\n"
     ]
    }
   ],
   "source": [
    "n = random.randint(5, 15)\n",
    "print(n)\n"
   ]
  },
  {
   "cell_type": "code",
   "execution_count": 128,
   "metadata": {},
   "outputs": [
    {
     "name": "stdout",
     "output_type": "stream",
     "text": [
      "random_float: 3.1027233621805896e+37\n",
      "reconverted_float: 3.102723412708938e+37\n",
      "Diff: 5.052834855920973e+29\n",
      "--------------------------------\n",
      "random_float: 7.521118260274735e+37\n",
      "reconverted_float: 7.5211180586237115e+37\n",
      "Diff: 2.0165102355660798e+30\n",
      "--------------------------------\n",
      "random_float: 7.366126261119472e+37\n",
      "reconverted_float: 7.366126476215727e+37\n",
      "Diff: 2.150962545088591e+30\n",
      "--------------------------------\n",
      "acertos: 3\n",
      "erros: 0\n"
     ]
    }
   ],
   "source": [
    "min_ = round(-1*(10**38), 6)\n",
    "max_ = round(1*(10**38), 6)\n",
    "erros = 0\n",
    "acertos = 0\n",
    "for i in range(3):\n",
    "    random_float = round(random.uniform(min_, max_), 6)\n",
    "    converted_float = float_32_bits_to_ieee_754(random_float)\n",
    "    reconverted_float = round(ieee_754_to_float_32_bits(converted_float), 6)\n",
    "\n",
    "    initial_float = rounder(random_float)\n",
    "    final_float = rounder(reconverted_float)\n",
    "\n",
    "    if (initial_float - final_float) > 0.000001:\n",
    "        erros += 1\n",
    "    else:\n",
    "        acertos += 1\n",
    "    print(f'random_float: {random_float}')\n",
    "    print(f'reconverted_float: {reconverted_float}')\n",
    "    print(f'Diff: {abs(random_float - reconverted_float)}')\n",
    "\n",
    "    print('--------------------------------')\n",
    "\n",
    "print(f'acertos: {acertos}')\n",
    "print(f'erros: {erros}')\n"
   ]
  },
  {
   "cell_type": "code",
   "execution_count": 111,
   "metadata": {},
   "outputs": [],
   "source": [
    "random_float = round(random.uniform(min_, max_), 6)\n",
    "\n"
   ]
  },
  {
   "cell_type": "code",
   "execution_count": 114,
   "metadata": {},
   "outputs": [
    {
     "name": "stdout",
     "output_type": "stream",
     "text": [
      "['3.9957905921343826', '+37']\n"
     ]
    }
   ],
   "source": [
    "contat_list = (str(random_float)).split('e')\n",
    "print((str(random_float)).split('e'))\n"
   ]
  },
  {
   "cell_type": "code",
   "execution_count": 124,
   "metadata": {},
   "outputs": [
    {
     "name": "stdout",
     "output_type": "stream",
     "text": [
      "3.995791e+37\n"
     ]
    }
   ],
   "source": [
    "num = str(round(float(contat_list[0]), 6))\n",
    "exp = contat_list[1]\n",
    "\n",
    "num_complete = float(num + 'e' + exp)\n",
    "\n",
    "print(num_complete)\n",
    "\n"
   ]
  },
  {
   "cell_type": "code",
   "execution_count": null,
   "metadata": {},
   "outputs": [],
   "source": []
  }
 ],
 "metadata": {
  "kernelspec": {
   "display_name": "base",
   "language": "python",
   "name": "python3"
  },
  "language_info": {
   "codemirror_mode": {
    "name": "ipython",
    "version": 3
   },
   "file_extension": ".py",
   "mimetype": "text/x-python",
   "name": "python",
   "nbconvert_exporter": "python",
   "pygments_lexer": "ipython3",
   "version": "3.9.13"
  }
 },
 "nbformat": 4,
 "nbformat_minor": 2
}
