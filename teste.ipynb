{
 "cells": [
  {
   "cell_type": "code",
   "execution_count": 1,
   "metadata": {},
   "outputs": [],
   "source": [
    "import struct\n",
    "import random"
   ]
  },
  {
   "cell_type": "code",
   "execution_count": 2,
   "metadata": {},
   "outputs": [],
   "source": [
    "def float_32_bits_to_ieee_754(float_value):\n",
    "    '''\n",
    "    Função que converte o valor float_value para float de 32 bits\n",
    "    '''\n",
    "    return struct.pack('f', float_value)"
   ]
  },
  {
   "cell_type": "code",
   "execution_count": 3,
   "metadata": {},
   "outputs": [],
   "source": [
    "def ieee_754_to_float_32_bits(ieee_value):\n",
    "    '''\n",
    "    Função que converte o valor ieee_value para float de 32 bits\n",
    "    '''\n",
    "    return struct.unpack('f', ieee_value)[0]"
   ]
  },
  {
   "cell_type": "code",
   "execution_count": 126,
   "metadata": {},
   "outputs": [],
   "source": [
    "def rounder(x):\n",
    "    '''\n",
    "    Função que arredonda o número x para 6 casas decimais e retorna o número em notação científica\n",
    "    '''\n",
    "    concat_list = (str(x)).split('e')\n",
    "    num = str(round(float(concat_list[0]), 6))\n",
    "    exp = concat_list[1]\n",
    "    num_complete = float(num + 'e' + exp)\n",
    "    return num_complete\n"
   ]
  },
  {
   "cell_type": "code",
   "execution_count": 70,
   "metadata": {},
   "outputs": [
    {
     "name": "stdout",
     "output_type": "stream",
     "text": [
      "13\n"
     ]
    }
   ],
   "source": [
    "n = random.randint(5, 15)\n",
    "print(n)\n"
   ]
  },
  {
   "cell_type": "code",
   "execution_count": 128,
   "metadata": {},
   "outputs": [
    {
     "name": "stdout",
     "output_type": "stream",
     "text": [
      "random_float: 3.1027233621805896e+37\n",
      "reconverted_float: 3.102723412708938e+37\n",
      "Diff: 5.052834855920973e+29\n",
      "--------------------------------\n",
      "random_float: 7.521118260274735e+37\n",
      "reconverted_float: 7.5211180586237115e+37\n",
      "Diff: 2.0165102355660798e+30\n",
      "--------------------------------\n",
      "random_float: 7.366126261119472e+37\n",
      "reconverted_float: 7.366126476215727e+37\n",
      "Diff: 2.150962545088591e+30\n",
      "--------------------------------\n",
      "acertos: 3\n",
      "erros: 0\n"
     ]
    }
   ],
   "source": [
    "min_ = round(-1*(10**38), 6)\n",
    "max_ = round(1*(10**38), 6)\n",
    "erros = 0\n",
    "acertos = 0\n",
    "for i in range(3):\n",
    "    random_float = round(random.uniform(min_, max_), 6)\n",
    "    converted_float = float_32_bits_to_ieee_754(random_float)\n",
    "    reconverted_float = round(ieee_754_to_float_32_bits(converted_float), 6)\n",
    "\n",
    "    initial_float = rounder(random_float)\n",
    "    final_float = rounder(reconverted_float)\n",
    "\n",
    "    if (initial_float - final_float) > 0.000001:\n",
    "        erros += 1\n",
    "    else:\n",
    "        acertos += 1\n",
    "    print(f'random_float: {random_float}')\n",
    "    print(f'reconverted_float: {reconverted_float}')\n",
    "    print(f'Diff: {abs(random_float - reconverted_float)}')\n",
    "\n",
    "    print('--------------------------------')\n",
    "\n",
    "print(f'acertos: {acertos}')\n",
    "print(f'erros: {erros}')\n"
   ]
  },
  {
   "cell_type": "code",
   "execution_count": 111,
   "metadata": {},
   "outputs": [],
   "source": [
    "random_float = round(random.uniform(min_, max_), 6)\n",
    "\n"
   ]
  },
  {
   "cell_type": "code",
   "execution_count": 114,
   "metadata": {},
   "outputs": [
    {
     "name": "stdout",
     "output_type": "stream",
     "text": [
      "['3.9957905921343826', '+37']\n"
     ]
    }
   ],
   "source": [
    "contat_list = (str(random_float)).split('e')\n",
    "print((str(random_float)).split('e'))\n"
   ]
  },
  {
   "cell_type": "code",
   "execution_count": 124,
   "metadata": {},
   "outputs": [
    {
     "name": "stdout",
     "output_type": "stream",
     "text": [
      "3.995791e+37\n"
     ]
    }
   ],
   "source": [
    "num = str(round(float(contat_list[0]), 6))\n",
    "exp = contat_list[1]\n",
    "\n",
    "num_complete = float(num + 'e' + exp)\n",
    "\n",
    "print(num_complete)\n",
    "\n"
   ]
  },
  {
   "cell_type": "code",
   "execution_count": 29,
   "metadata": {},
   "outputs": [
    {
     "data": {
      "text/plain": [
       "b'\\x00\\x01'"
      ]
     },
     "execution_count": 29,
     "metadata": {},
     "output_type": "execute_result"
    }
   ],
   "source": [
    "payload_len = 8\n",
    "len_payload = 50\n",
    "i = 1\n",
    "\n",
    "head = i.to_bytes(2, byteorder='big')\n",
    "head"
   ]
  },
  {
   "cell_type": "code",
   "execution_count": 16,
   "metadata": {},
   "outputs": [
    {
     "data": {
      "text/plain": [
       "8"
      ]
     },
     "execution_count": 16,
     "metadata": {},
     "output_type": "execute_result"
    }
   ],
   "source": [
    "head[3]"
   ]
  },
  {
   "cell_type": "code",
   "execution_count": 32,
   "metadata": {},
   "outputs": [
    {
     "name": "stdout",
     "output_type": "stream",
     "text": [
      "[2, 5, 8, 50, 0, 0]\n"
     ]
    }
   ],
   "source": [
    "def cria_Head(msg_type, i, payload_len, len_payload):\n",
    "    head = msg_type.to_bytes(2, byteorder='big')\n",
    "    head += i.to_bytes(2, byteorder='big')\n",
    "    head += payload_len.to_bytes(2, byteorder='big')\n",
    "    head += len_payload.to_bytes(2, byteorder='big')\n",
    "    head += b'\\x00'*4\n",
    "    return head\n",
    "\n",
    "head=cria_Head(2,5,8,50)\n",
    "\n",
    "def analisa_Head(head):\n",
    "    numeros=\"\"\n",
    "    info=[]\n",
    "    i=1\n",
    "    for byte in head:\n",
    "        if i<2:\n",
    "            numeros+=str(byte)\n",
    "        else:\n",
    "            numeros+=str(byte)\n",
    "            info.append(int(numeros))\n",
    "            numeros=\"\"\n",
    "            i=0\n",
    "        i+=1\n",
    "    return (info)\n",
    "\n",
    "print(analisa_Head(head))"
   ]
  },
  {
   "cell_type": "code",
   "execution_count": 19,
   "metadata": {},
   "outputs": [
    {
     "data": {
      "text/plain": [
       "b'\\x00\\x08'"
      ]
     },
     "execution_count": 19,
     "metadata": {},
     "output_type": "execute_result"
    }
   ],
   "source": [
    "byte_value = payload_len.to_bytes(2,\"big\")\n",
    "byte_value"
   ]
  },
  {
   "cell_type": "code",
   "execution_count": 7,
   "metadata": {},
   "outputs": [
    {
     "name": "stdout",
     "output_type": "stream",
     "text": [
      "Tamanho da imagem: 370 bytes\n",
      "b'\\x00\\x00\\x00\\x00\\x00\\x00\\x00\\x00\\x00\\x00\\x00\\x00\\x00\\x00\\x00\\x00\\x00\\x00\\x00\\x00\\x00\\x00\\x00\\x00\\x00\\x00\\x00\\x00\\x00\\x00\\x00\\x00\\x00\\x00\\x00\\x00\\x00\\x00\\x00\\x00\\x00\\x00\\x00\\x00\\x00\\x00\\x00\\x00\\x00\\x00\\x00\\x00\\x00\\x00\\x00\\x00\\x00\\x00\\x00\\x00\\x00\\x00\\x00\\x00\\x00\\x00\\x00\\x00\\x00\\x00\\x00\\x00\\x00\\x00\\x00\\x00\\x00\\x00\\x00\\x00\\x00\\x00\\x00\\x00\\x00\\x00\\x00\\x00\\x00\\x00\\x00\\x00\\x00\\x00\\x00\\x00\\x00\\x00\\x00\\x00'\n",
      "b'\\x00\\x01\\x00\\x01\\x00\\x01\\x00\\x01\\x00\\x01\\x00\\x01\\x00\\x01\\x00\\x01\\x00\\x01\\x00\\x01\\x00\\x01\\x00\\x01\\x00\\x01\\x00\\x01\\x00\\x01\\x00\\x01\\x00\\x01\\x00\\x01\\x00\\x01\\x00\\x01\\x00\\x01\\x00\\x01\\x00\\x01\\x00\\x01\\x00\\x01\\x00\\x01\\x00\\x01\\x00\\x01\\x00\\x01\\x00\\x01\\x00\\x01\\x00\\x01\\x00\\x01\\x00\\x01\\x00\\x01\\x00\\x01\\x00\\x01\\x00\\x01\\x00\\x01\\x00\\x01\\x00\\x01\\x00\\x01\\x00\\x01\\x00\\x01\\x00\\x01\\x00\\x01\\x00\\x01\\x00\\x01\\x00\\x01\\x00\\x01'\n",
      "b'\\x00\\x02\\x00\\x02\\x00\\x02\\x00\\x02\\x00\\x02\\x00\\x02\\x00\\x02\\x00\\x02\\x00\\x02\\x00\\x02\\x00\\x02\\x00\\x02\\x00\\x02\\x00\\x02\\x00\\x02\\x00\\x02\\x00\\x02\\x00\\x02\\x00\\x02\\x00\\x02\\x00\\x02\\x00\\x02\\x00\\x02\\x00\\x02\\x00\\x02\\x00\\x02\\x00\\x02\\x00\\x02\\x00\\x02\\x00\\x02\\x00\\x02\\x00\\x02\\x00\\x02\\x00\\x02\\x00\\x02\\x00\\x02\\x00\\x02\\x00\\x02\\x00\\x02\\x00\\x02\\x00\\x02\\x00\\x02\\x00\\x02\\x00\\x02\\x00\\x02\\x00\\x02\\x00\\x02\\x00\\x02\\x00\\x02\\x00\\x02'\n",
      "b'\\x00\\x03\\x00\\x03\\x00\\x03\\x00\\x03\\x00\\x03\\x00\\x03\\x00\\x03\\x00\\x03\\x00\\x03\\x00\\x03\\x00\\x03\\x00\\x03\\x00\\x03\\x00\\x03\\x00\\x03\\x00\\x03\\x00\\x03\\x00\\x03\\x00\\x03\\x00\\x03\\x00\\x03\\x00\\x03\\x00\\x03\\x00\\x03\\x00\\x03\\x00\\x03\\x00\\x03\\x00\\x03\\x00\\x03\\x00\\x03\\x00\\x03\\x00\\x03\\x00\\x03\\x00\\x03\\x00\\x03\\x00\\x03\\x00\\x03\\x00\\x03\\x00\\x03\\x00\\x03\\x00\\x03\\x00\\x03\\x00\\x03\\x00\\x03\\x00\\x03\\x00\\x03\\x00\\x03\\x00\\x03\\x00\\x03\\x00\\x03'\n",
      "b'\\x00\\x04\\x00\\x04\\x00\\x04\\x00\\x04\\x00\\x04\\x00\\x04\\x00\\x04\\x00\\x04\\x00\\x04\\x00\\x04\\x00\\x04\\x00\\x04\\x00\\x04\\x00\\x04\\x00\\x04\\x00\\x04\\x00\\x04\\x00\\x04\\x00\\x04\\x00\\x04\\x00\\x04\\x00\\x04\\x00\\x04\\x00\\x04\\x00\\x04\\x00\\x04\\x00\\x04\\x00\\x04\\x00\\x04\\x00\\x04\\x00\\x04\\x00\\x04\\x00\\x04\\x00\\x04\\x00\\x04\\x00\\x04\\x00\\x04\\x00\\x04\\x00\\x04\\x00\\x04\\x00\\x04\\x00\\x04\\x00\\x04\\x00\\x04\\x00\\x04\\x00\\x04\\x00\\x04\\x00\\x04\\x00\\x04\\x00\\x04'\n",
      "b'\\x00\\x05\\x00\\x05\\x00\\x05\\x00\\x05\\x00\\x05\\x00\\x05\\x00\\x05\\x00\\x05\\x00\\x05\\x00\\x05\\x00\\x05\\x00\\x05\\x00\\x05\\x00\\x05\\x00\\x05\\x00\\x05\\x00\\x05\\x00\\x05\\x00\\x05\\x00\\x05\\x00\\x05\\x00\\x05\\x00\\x05\\x00\\x05\\x00\\x05\\x00\\x05\\x00\\x05\\x00\\x05\\x00\\x05\\x00\\x05\\x00\\x05\\x00\\x05\\x00\\x05\\x00\\x05\\x00\\x05\\x00\\x05\\x00\\x05\\x00\\x05\\x00\\x05\\x00\\x05\\x00\\x05\\x00\\x05\\x00\\x05\\x00\\x05\\x00\\x05\\x00\\x05\\x00\\x05\\x00\\x05\\x00\\x05\\x00\\x05'\n",
      "b'\\x00\\x06\\x00\\x06\\x00\\x06\\x00\\x06\\x00\\x06\\x00\\x06\\x00\\x06\\x00\\x06\\x00\\x06\\x00\\x06\\x00\\x06\\x00\\x06\\x00\\x06\\x00\\x06\\x00\\x06\\x00\\x06\\x00\\x06\\x00\\x06\\x00\\x06\\x00\\x06\\x00\\x06\\x00\\x06\\x00\\x06\\x00\\x06\\x00\\x06\\x00\\x06\\x00\\x06\\x00\\x06\\x00\\x06\\x00\\x06\\x00\\x06\\x00\\x06\\x00\\x06\\x00\\x06\\x00\\x06\\x00\\x06\\x00\\x06\\x00\\x06\\x00\\x06\\x00\\x06\\x00\\x06\\x00\\x06\\x00\\x06\\x00\\x06\\x00\\x06\\x00\\x06\\x00\\x06\\x00\\x06\\x00\\x06\\x00\\x06'\n",
      "b'\\x00\\x07\\x00\\x07\\x00\\x07\\x00\\x07\\x00\\x07\\x00\\x07\\x00\\x07\\x00\\x07\\x00\\x07\\x00\\x07\\x00\\x07\\x00\\x07\\x00\\x07\\x00\\x07\\x00\\x07\\x00\\x07\\x00\\x07\\x00\\x07\\x00\\x07\\x00\\x07'\n"
     ]
    }
   ],
   "source": [
    "pk = './imgs/paulo_kogos.jpg'\n",
    "pk_bytes = open(pk, 'rb').read()\n",
    "pk_size = len(pk_bytes)\n",
    "print(f'Tamanho da imagem: {pk_size} bytes')\n",
    "\n",
    "payload_list = []\n",
    "payload = []\n",
    "for byte in pk_bytes:\n",
    "    if len(payload) < 50:\n",
    "        payload.append(byte)\n",
    "    else:\n",
    "        payload_list.append(payload)\n",
    "        payload = []\n",
    "        payload.append(byte)\n",
    "payload_list.append(payload)\n",
    "\n",
    "\n",
    "for i, payload in enumerate(payload_list):\n",
    "    bytes=b''\n",
    "    for n in payload:\n",
    "        bytes+=i.to_bytes(2, byteorder='big')\n",
    "    print(bytes)\n"
   ]
  },
  {
   "cell_type": "code",
   "execution_count": 1,
   "metadata": {},
   "outputs": [
    {
     "name": "stdout",
     "output_type": "stream",
     "text": [
      "False\n"
     ]
    }
   ],
   "source": [
    "b=b'\\xff\\xd8\\xff\\xe0\\x00\\x10JFIF\\x00\\x01\\x01\\x00\\x00\\x01\\x00\\x01\\x00\\x00\\xff\\xdb\\x00C\\x00\\x08\\x06\\x06\\x07\\x06\\x05\\x08\\x07\\x07\\x07\\t\\t\\x08\\n\\x0c\\x14\\r\\x0c\\x0b\\x0b\\x0c\\x19\\x12\\x13\\x0f\\x14\\x1d\\x1a\\x1f\\x1e\\x1d\\x1a\\x1c\\x1c $.\\' \",#\\x1c\\x1c(7),01444\\x1f\\'9=82<.342\\xff\\xdb\\x00C\\x01\\t\\t\\t\\x0c\\x0b\\x0c\\x18\\r\\r\\x182!\\x1c!22222222222222222222222222222222222222222222222222\\xff\\xc0\\x00\\x11\\x08\\x00\\n\\x00\\x07\\x03\\x01\"\\x00\\x02\\x11\\x01\\x03\\x11\\x01\\xff\\xc4\\x00\\x16\\x00\\x01\\x01\\x01\\x00\\x00\\x00\\x00\\x00\\x00\\x00\\x00\\x00\\x00\\x00\\x00\\x00\\x00\\x04\\x05\\xff\\xc4\\x00\\x1e\\x10\\x00\\x03\\x00\\x03\\x00\\x02\\x03\\x00\\x00\\x00\\x00\\x00\\x00\\x00\\x00\\x00\\x01\\x02\\x03\\x00\\x05\\x11\\x04\\x12!\"1\\xff\\xc4\\x00\\x15\\x01\\x01\\x01\\x00\\x00\\x00\\x00\\x00\\x00\\x00\\x00\\x00\\x00\\x00\\x00\\x00\\x00\\x01\\x02\\xff\\xc4\\x00\\x1e\\x11\\x00\\x02\\x02\\x00\\x07\\x00\\x00\\x00\\x00\\x00\\x00\\x00\\x00\\x00\\x00\\x00\\x01\\x02\\x00\\x03\\x11\\x12!q\\x91\\xa1\\xb1\\xff\\xda\\x00\\x0c\\x03\\x01\\x00\\x02\\x11\\x03\\x11\\x00?\\x00\\xcf\\x98\\xb5v\\r\\xb2\\xd6\\xaf\\x95\\xafg\\xed\\x14-_\\xde\\xd3?'\n",
    "c=b'\\xff\\xd8\\xff\\xe0\\x00\\x10JFIF\\x00\\x01\\x01\\x00\\x00\\x01\\x00\\x01\\x00\\x00\\xff\\xdb\\x00C\\x00\\x08\\x06\\x06\\x07\\x06\\x05\\x08\\x07\\x07\\x07\\t\\t\\x08\\n\\x0c\\x14\\r\\x0c\\x0b\\x0b\\x0c\\x19\\x12\\x13\\x0f\\x14\\x1d\\x1a\\x1f\\x1e\\x1d\\x1a\\x1c\\x1c $.\\' \",#\\x1c\\x1c(7),01444\\x1f\\'9=82<.342\\xff\\xdb\\x00C\\x01\\t\\t\\t\\x0c\\x0b\\x0c\\x18\\r\\r\\x182!\\x1c!22222222222222222222222222222222222222222222222222\\xff\\xc0\\x00\\x11\\x08\\x00\\n\\x00\\x07\\x03\\x01\"\\x00\\x02\\x11\\x01\\x03\\x11\\x01\\xff\\xc4\\x00\\x16\\x00\\x01\\x01\\x01\\x00\\x00\\x00\\x00\\x00\\x00\\x00\\x00\\x00\\x00\\x00\\x00\\x00\\x00\\x04\\x05\\xff\\xc4\\x00\\x1e\\x10\\x00\\x03\\x00\\x03\\x00\\x02\\x03\\x00\\x00\\x00\\x00\\x00\\x00\\x00\\x00\\x00\\x01\\x02\\x03\\x00\\x05\\x11\\x04\\x12!\"1\\xff\\xc4\\x00\\x15\\x01\\x01\\x01\\x00\\x00\\x00\\x00\\x00\\x00\\x00\\x00\\x00\\x00\\x00\\x00\\x00\\x00\\x01\\x02\\xff\\xc4\\x00\\x1e\\x11\\x00\\x02\\x02\\x00\\x07\\x00\\x00\\x00\\x00\\x00\\x00\\x00\\x00\\x00\\x00\\x00\\x01\\x02\\x00\\x03\\x11\\x12!q\\x91\\xa1\\xb1\\xff\\xda\\x00\\x0c\\x03\\x01\\x00\\x02\\x11\\x03\\x11\\x00?\\x00\\xcf\\x98\\xb5v\\r\\xb2\\xd6\\xaf\\x95\\xafg\\xed\\x14-_\\xde\\xd3?RB\\x80\\xde\\xca\\x1b\\x83\\x83\\xe4\\x12?\\x062]\\x05\\xab?\\x1fCD\\xa3\\xab\\x8b\\xd3\\x8c\\xacA\\x1d\\x9d;\\x8chDT\\x03(;\\x80O&M\\x95+\\x1cOZy?\\xff\\xd9'\n",
    "print(c==b)\n"
   ]
  }
 ],
 "metadata": {
  "kernelspec": {
   "display_name": "base",
   "language": "python",
   "name": "python3"
  },
  "language_info": {
   "codemirror_mode": {
    "name": "ipython",
    "version": 3
   },
   "file_extension": ".py",
   "mimetype": "text/x-python",
   "name": "python",
   "nbconvert_exporter": "python",
   "pygments_lexer": "ipython3",
   "version": "3.9.13"
  }
 },
 "nbformat": 4,
 "nbformat_minor": 2
}
